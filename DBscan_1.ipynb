{
  "nbformat": 4,
  "nbformat_minor": 0,
  "metadata": {
    "colab": {
      "provenance": []
    },
    "kernelspec": {
      "name": "python3",
      "display_name": "Python 3"
    },
    "language_info": {
      "name": "python"
    }
  },
  "cells": [
    {
      "cell_type": "markdown",
      "source": [
        "DBScan is a data clustering algorithm which clusters the data\n",
        "\n",
        "*it groups together points that are close to each other based on distance measurement\n",
        "\n",
        "*it uses Euclidean distance to measure the minimum number of points."
      ],
      "metadata": {
        "id": "LcLcIuMBbJS_"
      }
    },
    {
      "cell_type": "markdown",
      "source": [
        "Here DBscan effects by the noise ,and outliers.\n",
        "\n",
        "*it takes two parameters...\n",
        "\n",
        "**eps**:The maximun distance from a data point to another data point is considerd as a neighbour.\n",
        "\n",
        "\n",
        "**minpoints**:the minimun number of datapoints lessthan eps distance from observation is considerd as core observation"
      ],
      "metadata": {
        "id": "pTcLXAaPgdTc"
      }
    },
    {
      "cell_type": "markdown",
      "source": [
        "working of dbscan:\n",
        "\n",
        "*choose a data point randomly.\n",
        "\n",
        "for say xi if xi has a minimum number of close neighbours we consider it to be a part of cluster.\n",
        "\n",
        "**repetedly recursively for all of xi's neighbours then neighbours of neighbour so that it can form a cluster.\n",
        "\n",
        "**Runs out of nearby observations and new data point is choosen.\n",
        "\n",
        "The process will repeate untill the data points are formed into clusters."
      ],
      "metadata": {
        "id": "rRlYqTV1iLrV"
      }
    },
    {
      "cell_type": "code",
      "source": [
        "import matplotlib.pyplot as plt\n",
        "import numpy as np\n",
        "import seaborn as sns\n"
      ],
      "metadata": {
        "id": "pRb2Blv4rRy1"
      },
      "execution_count": 1,
      "outputs": []
    },
    {
      "cell_type": "code",
      "source": [
        "from sklearn.datasets import make_blobs"
      ],
      "metadata": {
        "id": "ilpVggaTrgdM"
      },
      "execution_count": 3,
      "outputs": []
    },
    {
      "cell_type": "code",
      "source": [
        "x,y=make_blobs(n_samples=300,centers=4,cluster_std=0.5,random_state=0)\n"
      ],
      "metadata": {
        "id": "eFtgz3WXryEy"
      },
      "execution_count": 4,
      "outputs": []
    },
    {
      "cell_type": "code",
      "source": [
        "from sklearn.cluster import DBSCAN\n",
        "db=DBSCAN(eps=0.3,min_samples=10)\n",
        "db.fit(x)"
      ],
      "metadata": {
        "id": "DvJHV9SjsFsp",
        "outputId": "9fac4e91-5bf1-48f1-88b3-f461b62f730e",
        "colab": {
          "base_uri": "https://localhost:8080/",
          "height": 74
        }
      },
      "execution_count": 5,
      "outputs": [
        {
          "output_type": "execute_result",
          "data": {
            "text/plain": [
              "DBSCAN(eps=0.3, min_samples=10)"
            ],
            "text/html": [
              "<style>#sk-container-id-1 {color: black;background-color: white;}#sk-container-id-1 pre{padding: 0;}#sk-container-id-1 div.sk-toggleable {background-color: white;}#sk-container-id-1 label.sk-toggleable__label {cursor: pointer;display: block;width: 100%;margin-bottom: 0;padding: 0.3em;box-sizing: border-box;text-align: center;}#sk-container-id-1 label.sk-toggleable__label-arrow:before {content: \"▸\";float: left;margin-right: 0.25em;color: #696969;}#sk-container-id-1 label.sk-toggleable__label-arrow:hover:before {color: black;}#sk-container-id-1 div.sk-estimator:hover label.sk-toggleable__label-arrow:before {color: black;}#sk-container-id-1 div.sk-toggleable__content {max-height: 0;max-width: 0;overflow: hidden;text-align: left;background-color: #f0f8ff;}#sk-container-id-1 div.sk-toggleable__content pre {margin: 0.2em;color: black;border-radius: 0.25em;background-color: #f0f8ff;}#sk-container-id-1 input.sk-toggleable__control:checked~div.sk-toggleable__content {max-height: 200px;max-width: 100%;overflow: auto;}#sk-container-id-1 input.sk-toggleable__control:checked~label.sk-toggleable__label-arrow:before {content: \"▾\";}#sk-container-id-1 div.sk-estimator input.sk-toggleable__control:checked~label.sk-toggleable__label {background-color: #d4ebff;}#sk-container-id-1 div.sk-label input.sk-toggleable__control:checked~label.sk-toggleable__label {background-color: #d4ebff;}#sk-container-id-1 input.sk-hidden--visually {border: 0;clip: rect(1px 1px 1px 1px);clip: rect(1px, 1px, 1px, 1px);height: 1px;margin: -1px;overflow: hidden;padding: 0;position: absolute;width: 1px;}#sk-container-id-1 div.sk-estimator {font-family: monospace;background-color: #f0f8ff;border: 1px dotted black;border-radius: 0.25em;box-sizing: border-box;margin-bottom: 0.5em;}#sk-container-id-1 div.sk-estimator:hover {background-color: #d4ebff;}#sk-container-id-1 div.sk-parallel-item::after {content: \"\";width: 100%;border-bottom: 1px solid gray;flex-grow: 1;}#sk-container-id-1 div.sk-label:hover label.sk-toggleable__label {background-color: #d4ebff;}#sk-container-id-1 div.sk-serial::before {content: \"\";position: absolute;border-left: 1px solid gray;box-sizing: border-box;top: 0;bottom: 0;left: 50%;z-index: 0;}#sk-container-id-1 div.sk-serial {display: flex;flex-direction: column;align-items: center;background-color: white;padding-right: 0.2em;padding-left: 0.2em;position: relative;}#sk-container-id-1 div.sk-item {position: relative;z-index: 1;}#sk-container-id-1 div.sk-parallel {display: flex;align-items: stretch;justify-content: center;background-color: white;position: relative;}#sk-container-id-1 div.sk-item::before, #sk-container-id-1 div.sk-parallel-item::before {content: \"\";position: absolute;border-left: 1px solid gray;box-sizing: border-box;top: 0;bottom: 0;left: 50%;z-index: -1;}#sk-container-id-1 div.sk-parallel-item {display: flex;flex-direction: column;z-index: 1;position: relative;background-color: white;}#sk-container-id-1 div.sk-parallel-item:first-child::after {align-self: flex-end;width: 50%;}#sk-container-id-1 div.sk-parallel-item:last-child::after {align-self: flex-start;width: 50%;}#sk-container-id-1 div.sk-parallel-item:only-child::after {width: 0;}#sk-container-id-1 div.sk-dashed-wrapped {border: 1px dashed gray;margin: 0 0.4em 0.5em 0.4em;box-sizing: border-box;padding-bottom: 0.4em;background-color: white;}#sk-container-id-1 div.sk-label label {font-family: monospace;font-weight: bold;display: inline-block;line-height: 1.2em;}#sk-container-id-1 div.sk-label-container {text-align: center;}#sk-container-id-1 div.sk-container {/* jupyter's `normalize.less` sets `[hidden] { display: none; }` but bootstrap.min.css set `[hidden] { display: none !important; }` so we also need the `!important` here to be able to override the default hidden behavior on the sphinx rendered scikit-learn.org. See: https://github.com/scikit-learn/scikit-learn/issues/21755 */display: inline-block !important;position: relative;}#sk-container-id-1 div.sk-text-repr-fallback {display: none;}</style><div id=\"sk-container-id-1\" class=\"sk-top-container\"><div class=\"sk-text-repr-fallback\"><pre>DBSCAN(eps=0.3, min_samples=10)</pre><b>In a Jupyter environment, please rerun this cell to show the HTML representation or trust the notebook. <br />On GitHub, the HTML representation is unable to render, please try loading this page with nbviewer.org.</b></div><div class=\"sk-container\" hidden><div class=\"sk-item\"><div class=\"sk-estimator sk-toggleable\"><input class=\"sk-toggleable__control sk-hidden--visually\" id=\"sk-estimator-id-1\" type=\"checkbox\" checked><label for=\"sk-estimator-id-1\" class=\"sk-toggleable__label sk-toggleable__label-arrow\">DBSCAN</label><div class=\"sk-toggleable__content\"><pre>DBSCAN(eps=0.3, min_samples=10)</pre></div></div></div></div></div>"
            ]
          },
          "metadata": {},
          "execution_count": 5
        }
      ]
    },
    {
      "cell_type": "code",
      "source": [
        "samples=np.zeros_like(db.labels_,dtype=bool)\n",
        "samples[db.core_sample_indices_]=True\n",
        "labels=db.labels_"
      ],
      "metadata": {
        "id": "sUi_GFMBsdGB"
      },
      "execution_count": 6,
      "outputs": []
    },
    {
      "cell_type": "code",
      "source": [
        "labels"
      ],
      "metadata": {
        "id": "HjKrYW3Fs8ru",
        "outputId": "dedbaaaf-bd2c-400b-a562-482621b1fe0a",
        "colab": {
          "base_uri": "https://localhost:8080/"
        }
      },
      "execution_count": 7,
      "outputs": [
        {
          "output_type": "execute_result",
          "data": {
            "text/plain": [
              "array([-1,  0, -1,  0, -1, -1, -1,  2, -1, -1,  1, -1,  2, -1, -1,  2,  2,\n",
              "        3,  1, -1, -1,  3,  2,  1,  1, -1,  3,  2, -1, -1, -1,  0, -1, -1,\n",
              "        0, -1,  0, -1,  1,  3, -1,  1, -1, -1,  1,  1,  0,  1,  0, -1,  1,\n",
              "        3, -1,  3, -1,  1, -1, -1,  0,  3, -1,  2, -1,  1,  1,  1, -1,  3,\n",
              "       -1,  1,  2, -1,  0,  1, -1,  0,  1,  2,  3,  0, -1,  2, -1,  3,  0,\n",
              "       -1,  3,  2, -1,  0,  2,  3, -1,  1,  1, -1, -1,  3, -1, -1, -1, -1,\n",
              "       -1,  3,  2,  3, -1,  2, -1, -1, -1,  1,  3, -1,  3, -1,  0, -1, -1,\n",
              "       -1, -1,  3,  1,  3, -1,  3,  3,  1, -1,  1, -1,  1,  1, -1,  0, -1,\n",
              "       -1,  0, -1, -1, -1,  1, -1, -1, -1,  1,  0, -1,  0,  0,  0,  2, -1,\n",
              "        2, -1,  1,  0,  1,  3,  2, -1,  2,  2, -1,  2, -1, -1, -1, -1, -1,\n",
              "        2,  0,  3, -1, -1,  0, -1,  3,  2,  1,  3, -1,  1,  1,  2,  2, -1,\n",
              "        2, -1,  0, -1,  1,  2,  2,  1,  1, -1, -1,  1,  0, -1,  1, -1,  1,\n",
              "       -1, -1,  1, -1,  2, -1,  2,  1, -1, -1,  0,  1,  1,  3, -1,  2,  0,\n",
              "        3,  3, -1, -1, -1, -1, -1,  0, -1,  2, -1,  2, -1,  1,  2,  3,  1,\n",
              "       -1,  1, -1,  2, -1,  0,  0,  0,  0,  1,  1, -1, -1,  1,  3,  2,  1,\n",
              "       -1, -1, -1,  3,  0,  2,  2, -1,  3, -1,  1, -1, -1, -1,  3,  3, -1,\n",
              "        1, -1, -1, -1, -1, -1,  0,  0, -1,  3, -1,  3,  3, -1,  0, -1, -1,\n",
              "        2, -1,  3,  0, -1,  0, -1, -1,  2, -1,  1])"
            ]
          },
          "metadata": {},
          "execution_count": 7
        }
      ]
    },
    {
      "cell_type": "code",
      "source": [
        "samples"
      ],
      "metadata": {
        "id": "Vr7pKi3i9LuT",
        "outputId": "6f84b0ba-74db-48ca-a5a0-40779dfbb645",
        "colab": {
          "base_uri": "https://localhost:8080/"
        }
      },
      "execution_count": 8,
      "outputs": [
        {
          "output_type": "execute_result",
          "data": {
            "text/plain": [
              "array([False,  True, False, False, False, False, False, False, False,\n",
              "       False,  True, False,  True, False, False, False,  True, False,\n",
              "        True, False, False, False, False, False,  True, False,  True,\n",
              "        True, False, False, False, False, False, False,  True, False,\n",
              "       False, False, False,  True, False, False, False, False,  True,\n",
              "        True,  True,  True,  True, False, False, False, False,  True,\n",
              "       False,  True, False, False,  True, False, False,  True, False,\n",
              "        True, False,  True, False,  True, False,  True, False, False,\n",
              "        True,  True, False, False,  True,  True,  True,  True, False,\n",
              "        True, False, False, False, False,  True, False, False,  True,\n",
              "       False,  True, False,  True,  True, False, False, False, False,\n",
              "       False, False, False, False, False,  True, False, False, False,\n",
              "       False, False, False, False, False, False,  True, False,  True,\n",
              "       False, False, False, False,  True, False,  True, False,  True,\n",
              "        True, False, False, False, False,  True,  True, False, False,\n",
              "       False, False, False, False, False, False,  True, False, False,\n",
              "       False,  True,  True, False, False,  True,  True,  True, False,\n",
              "       False, False,  True, False,  True,  True, False, False,  True,\n",
              "        True, False,  True, False, False, False, False, False, False,\n",
              "       False,  True, False, False,  True, False, False,  True,  True,\n",
              "       False, False, False,  True, False, False, False,  True, False,\n",
              "       False, False,  True,  True,  True, False, False, False, False,\n",
              "       False, False, False,  True, False, False, False, False,  True,\n",
              "       False,  True, False, False,  True, False, False,  True, False,\n",
              "        True, False, False, False,  True, False, False, False, False,\n",
              "       False, False, False, False, False,  True, False, False, False,\n",
              "        True,  True,  True,  True, False,  True, False, False, False,\n",
              "        True,  True,  True, False, False,  True, False, False,  True,\n",
              "        True,  True,  True, False, False, False,  True,  True,  True,\n",
              "       False, False,  True, False,  True, False, False, False, False,\n",
              "       False, False, False, False, False, False, False, False, False,\n",
              "        True, False, False, False,  True,  True, False,  True, False,\n",
              "       False, False, False, False, False, False,  True, False, False,\n",
              "        True, False,  True])"
            ]
          },
          "metadata": {},
          "execution_count": 8
        }
      ]
    },
    {
      "cell_type": "code",
      "source": [
        "n_clusters=len(set(labels))- (1 if -1 in labels else 0)\n",
        "print(labels)"
      ],
      "metadata": {
        "id": "N2G-tmEp9TLE",
        "outputId": "58e4092d-21d3-498f-b9e3-6f12cf788fd4",
        "colab": {
          "base_uri": "https://localhost:8080/"
        }
      },
      "execution_count": 9,
      "outputs": [
        {
          "output_type": "stream",
          "name": "stdout",
          "text": [
            "[-1  0 -1  0 -1 -1 -1  2 -1 -1  1 -1  2 -1 -1  2  2  3  1 -1 -1  3  2  1\n",
            "  1 -1  3  2 -1 -1 -1  0 -1 -1  0 -1  0 -1  1  3 -1  1 -1 -1  1  1  0  1\n",
            "  0 -1  1  3 -1  3 -1  1 -1 -1  0  3 -1  2 -1  1  1  1 -1  3 -1  1  2 -1\n",
            "  0  1 -1  0  1  2  3  0 -1  2 -1  3  0 -1  3  2 -1  0  2  3 -1  1  1 -1\n",
            " -1  3 -1 -1 -1 -1 -1  3  2  3 -1  2 -1 -1 -1  1  3 -1  3 -1  0 -1 -1 -1\n",
            " -1  3  1  3 -1  3  3  1 -1  1 -1  1  1 -1  0 -1 -1  0 -1 -1 -1  1 -1 -1\n",
            " -1  1  0 -1  0  0  0  2 -1  2 -1  1  0  1  3  2 -1  2  2 -1  2 -1 -1 -1\n",
            " -1 -1  2  0  3 -1 -1  0 -1  3  2  1  3 -1  1  1  2  2 -1  2 -1  0 -1  1\n",
            "  2  2  1  1 -1 -1  1  0 -1  1 -1  1 -1 -1  1 -1  2 -1  2  1 -1 -1  0  1\n",
            "  1  3 -1  2  0  3  3 -1 -1 -1 -1 -1  0 -1  2 -1  2 -1  1  2  3  1 -1  1\n",
            " -1  2 -1  0  0  0  0  1  1 -1 -1  1  3  2  1 -1 -1 -1  3  0  2  2 -1  3\n",
            " -1  1 -1 -1 -1  3  3 -1  1 -1 -1 -1 -1 -1  0  0 -1  3 -1  3  3 -1  0 -1\n",
            " -1  2 -1  3  0 -1  0 -1 -1  2 -1  1]\n"
          ]
        }
      ]
    },
    {
      "cell_type": "code",
      "source": [
        "uni_labels=set(labels)\n",
        "colors=[\"y\",\"r\",\"g\",\"b\"]\n",
        "print(colors)\n",
        "for k, col in zip(uni_labels,colors):\n",
        "  if k==-1:\n",
        "    col=\"k\"\n",
        "  class_mask=(labels==k)\n",
        "  xy=x[class_mask & samples]\n",
        "  plt.plot(xy[:,0],xy[:,1],\"o\",markerfacecolor=col,markeredgecolor=\"k\",markersize=6)\n",
        "plt.title(\"number of clusters: %d\"%n_clusters)\n",
        "plt.show()"
      ],
      "metadata": {
        "id": "hqKl3wy094H7",
        "outputId": "d58fcaab-e615-4fbd-ca82-94a6584cf43b",
        "colab": {
          "base_uri": "https://localhost:8080/",
          "height": 470
        }
      },
      "execution_count": 10,
      "outputs": [
        {
          "output_type": "stream",
          "name": "stdout",
          "text": [
            "['y', 'r', 'g', 'b']\n"
          ]
        },
        {
          "output_type": "display_data",
          "data": {
            "text/plain": [
              "<Figure size 640x480 with 1 Axes>"
            ],
            "image/png": "[encoded data removed]"
          },
          "metadata": {}
        }
      ]
    }
  ]
}